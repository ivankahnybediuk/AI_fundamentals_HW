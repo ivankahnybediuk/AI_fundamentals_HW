{
 "cells": [
  {
   "cell_type": "code",
   "execution_count": 2,
   "id": "4aaa2993-cee4-4a5b-8916-91f80d15d8a2",
   "metadata": {},
   "outputs": [
    {
     "name": "stdout",
     "output_type": "stream",
     "text": [
      "Collecting git+https://github.com/mehalyna/cooltest.git\n",
      "  Cloning https://github.com/mehalyna/cooltest.git to /private/var/folders/3b/xym0v76n3011hvc6zc74m2yh0000gn/T/pip-req-build-3dq6m1y8\n",
      "  Running command git clone --filter=blob:none --quiet https://github.com/mehalyna/cooltest.git /private/var/folders/3b/xym0v76n3011hvc6zc74m2yh0000gn/T/pip-req-build-3dq6m1y8\n",
      "  Resolved https://github.com/mehalyna/cooltest.git to commit 630c96f2d3300782279879d5d13e6c1aaabf3c75\n",
      "  Preparing metadata (setup.py) ... \u001b[?25ldone\n",
      "\u001b[?25hRequirement already satisfied: numpy>=1.15 in /opt/anaconda3/lib/python3.12/site-packages (from cooltest==26.22) (2.2.5)\n"
     ]
    }
   ],
   "source": [
    "!pip install git+https://github.com/mehalyna/cooltest.git\n"
   ]
  },
  {
   "cell_type": "code",
   "execution_count": 4,
   "id": "ac4f16d2-8325-473f-8c30-4119e5443e4e",
   "metadata": {},
   "outputs": [
    {
     "name": "stdout",
     "output_type": "stream",
     "text": [
      "Pass\n"
     ]
    }
   ],
   "source": [
    "from cooltest.test_cool_2 import *"
   ]
  },
  {
   "cell_type": "code",
   "execution_count": 6,
   "id": "6f4124ae-3299-49a4-a888-621b6e15faef",
   "metadata": {},
   "outputs": [
    {
     "name": "stdout",
     "output_type": "stream",
     "text": [
      "Test Word choice pass\n"
     ]
    }
   ],
   "source": [
    "import random\n",
    "\n",
    "@test_select_random_word\n",
    "def select_random_word():\n",
    "    return random.choice([\"apple\", \"banana\", \"cherry\", \"dog\", \"elephant\", \"flower\", \"giraffe\", \"hamburger\", \"icecream\", \"jacket\"])\n",
    "  "
   ]
  },
  {
   "cell_type": "code",
   "execution_count": 20,
   "id": "3cb329c2-5383-4780-9808-e50a2db2a093",
   "metadata": {},
   "outputs": [
    {
     "name": "stdout",
     "output_type": "stream",
     "text": [
      "Test Display Word pass\n"
     ]
    }
   ],
   "source": [
    "@test_display_word\n",
    "def display_word(word, guessed_letters: list):\n",
    "   result = ''\n",
    "   temp_guessed = guessed_letters.copy()\n",
    "\n",
    "   for letter in word:\n",
    "        if letter in temp_guessed:\n",
    "            result += letter\n",
    "            temp_guessed.remove(letter)\n",
    "        else:\n",
    "            result += '_'\n",
    "   return result"
   ]
  },
  {
   "cell_type": "code",
   "execution_count": 14,
   "id": "92e046c2-3998-444b-bc8d-82a9611a5e31",
   "metadata": {},
   "outputs": [],
   "source": [
    "from collections import Counter\n",
    "def hangman_game():\n",
    "    \n",
    "    word_to_guess = select_random_word()\n",
    "    guessed_letters = []\n",
    "    max_attempts = 6  \n",
    "    wrong_attemts = 0\n",
    "\n",
    "    print(\"Welcome to Hangman!\")\n",
    "    print(\"Try to guess the word. You can make up to 6 wrong guesses.\")\n",
    "    print(f'Word: {display_word(word_to_guess, guessed_letters)}')\n",
    "\n",
    "    letters_count = Counter(word_to_guess)\n",
    "\n",
    "    while  wrong_attemts < max_attempts:\n",
    "        letter = input(\"\\nEnter the letter: \").lower().strip()\n",
    "\n",
    "        if not letter.isalpha() or len(letter) != 1:\n",
    "            print(\"Please enter a single valid letter!\")\n",
    "            continue\n",
    "\n",
    "        guessed_count = Counter(guessed_letters)\n",
    "\n",
    "        if guessed_count.get(letter, 0) < letters_count.get(letter, 0):\n",
    "            guessed_letters.append(letter)\n",
    "        else:\n",
    "            wrong_attemts += 1\n",
    "            print(\"Wrong guess\")\n",
    "\n",
    "        print(f'Word: {display_word(word_to_guess, guessed_letters)}')\n",
    "\n",
    "        print(f\"Attempts left: {max_attempts - wrong_attemts}\")\n",
    "\n",
    "        if display_word(word_to_guess, guessed_letters) == word_to_guess:\n",
    "            print(\"You won!\")\n",
    "            return\n",
    "\n",
    "\n",
    "    print(\"You lose\")"
   ]
  },
  {
   "cell_type": "code",
   "execution_count": null,
   "id": "2aaa5bc4-fc8b-4156-bb5d-25292ec49b88",
   "metadata": {},
   "outputs": [],
   "source": []
  }
 ],
 "metadata": {
  "kernelspec": {
   "display_name": "Python (spaCy)",
   "language": "python",
   "name": "spacy_env"
  },
  "language_info": {
   "codemirror_mode": {
    "name": "ipython",
    "version": 3
   },
   "file_extension": ".py",
   "mimetype": "text/x-python",
   "name": "python",
   "nbconvert_exporter": "python",
   "pygments_lexer": "ipython3",
   "version": "3.10.13"
  }
 },
 "nbformat": 4,
 "nbformat_minor": 5
}
