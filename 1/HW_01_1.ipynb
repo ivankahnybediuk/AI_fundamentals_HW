{
 "cells": [
  {
   "cell_type": "code",
   "execution_count": 6,
   "id": "3169c4a1-391c-46ca-a91e-4c3fa4972d9f",
   "metadata": {},
   "outputs": [
    {
     "name": "stdout",
     "output_type": "stream",
     "text": [
      "Collecting git+https://github.com/mehalyna/cooltest.git\n",
      "  Cloning https://github.com/mehalyna/cooltest.git to /private/var/folders/3b/xym0v76n3011hvc6zc74m2yh0000gn/T/pip-req-build-t0rd_xkr\n",
      "  Running command git clone --filter=blob:none --quiet https://github.com/mehalyna/cooltest.git /private/var/folders/3b/xym0v76n3011hvc6zc74m2yh0000gn/T/pip-req-build-t0rd_xkr\n",
      "  Resolved https://github.com/mehalyna/cooltest.git to commit 630c96f2d3300782279879d5d13e6c1aaabf3c75\n",
      "  Preparing metadata (setup.py) ... \u001b[?25ldone\n",
      "\u001b[?25hRequirement already satisfied: numpy>=1.15 in /opt/anaconda3/lib/python3.12/site-packages (from cooltest==26.22) (2.2.5)\n"
     ]
    }
   ],
   "source": [
    "!pip install git+https://github.com/mehalyna/cooltest.git"
   ]
  },
  {
   "cell_type": "code",
   "execution_count": 8,
   "id": "9e298b5f-7810-4e82-92e8-5ea9ee557ef9",
   "metadata": {},
   "outputs": [
    {
     "name": "stdout",
     "output_type": "stream",
     "text": [
      "Pass\n"
     ]
    }
   ],
   "source": [
    "from cooltest.test_cool_2 import *"
   ]
  },
  {
   "cell_type": "code",
   "execution_count": 10,
   "id": "99e97c73-94cf-4960-ba1b-60bf4bde3cd4",
   "metadata": {},
   "outputs": [
    {
     "name": "stdout",
     "output_type": "stream",
     "text": [
      "Test game Pass\n"
     ]
    }
   ],
   "source": [
    "@test_play_rock_paper_scissors\n",
    "def play_rock_paper_scissors(player_choice, comp_choice):\n",
    "    RESULT_MESSAGES = {\n",
    "        'player1': 'Player 1 wins',\n",
    "        'computer': 'Comp wins',\n",
    "        'tie': 'Tie'\n",
    "    }\n",
    "    RULES = {\n",
    "        'rock': 'scissors',\n",
    "        'scissors': 'paper',\n",
    "        'paper': 'rock'\n",
    "    }\n",
    "\n",
    "    if player_choice not in RULES.keys():\n",
    "        raise ValueError('Invalid value! Please chose from rock, paper, scissors')\n",
    "   \n",
    "    if player_choice == comp_choice:\n",
    "        return RESULT_MESSAGES['tie']\n",
    "    elif RULES[player_choice] == comp_choice:\n",
    "        return RESULT_MESSAGES['player1']\n",
    "    else: \n",
    "        return RESULT_MESSAGES['computer']\n"
   ]
  },
  {
   "cell_type": "code",
   "execution_count": 12,
   "id": "2a483629-90f4-4186-9616-16cc23a820f2",
   "metadata": {},
   "outputs": [
    {
     "name": "stdout",
     "output_type": "stream",
     "text": [
      "Test Comp choice pass\n"
     ]
    }
   ],
   "source": [
    "import random\n",
    "\n",
    "@ test_computer_makes_choice\n",
    "def computer_makes_choice():\n",
    "    return random.choice(('rock', 'paper', 'scissors'))"
   ]
  },
  {
   "cell_type": "code",
   "execution_count": 14,
   "id": "f245b235-97a7-4d94-8d31-6a0cb8228853",
   "metadata": {},
   "outputs": [],
   "source": [
    "def play_multiple_rounds(num_rounds):\n",
    "    \n",
    "    for i in range(num_rounds):\n",
    "        try:\n",
    "            player_choice = input(\"Enter your choice (rock/paper/scissors): \").lower().strip()\n",
    "            comp_choice = computer_makes_choice()\n",
    "        \n",
    "            print(f'Round {i+1}: You chose {player_choice}. Computer chose {comp_choice}. {play_rock_paper_scissors(player_choice, comp_choice)}')\n",
    "        except ValueError as err:\n",
    "           print(err)\n",
    "        \n",
    "        print('\\n')\n"
   ]
  },
  {
   "cell_type": "code",
   "execution_count": 16,
   "id": "9fc076ad-5737-4462-9b69-09cba1b04518",
   "metadata": {},
   "outputs": [
    {
     "name": "stdin",
     "output_type": "stream",
     "text": [
      "Enter the number of rounds:  3\n",
      "Enter your choice (rock/paper/scissors):  rock\n"
     ]
    },
    {
     "name": "stdout",
     "output_type": "stream",
     "text": [
      "Round 1: You chose rock. Computer chose rock. Tie\n",
      "\n",
      "\n"
     ]
    },
    {
     "name": "stdin",
     "output_type": "stream",
     "text": [
      "Enter your choice (rock/paper/scissors):  ddd\n"
     ]
    },
    {
     "name": "stdout",
     "output_type": "stream",
     "text": [
      "Invalid value! Please chose from rock, paper, scissors\n",
      "\n",
      "\n"
     ]
    },
    {
     "name": "stdin",
     "output_type": "stream",
     "text": [
      "Enter your choice (rock/paper/scissors):  paper\n"
     ]
    },
    {
     "name": "stdout",
     "output_type": "stream",
     "text": [
      "Round 3: You chose paper. Computer chose scissors. Comp wins\n",
      "\n",
      "\n"
     ]
    }
   ],
   "source": [
    "rounds = int(input(\"Enter the number of rounds: \"))\n",
    "play_multiple_rounds(rounds)             "
   ]
  },
  {
   "cell_type": "code",
   "execution_count": null,
   "id": "c8fb8516-3602-4eaf-bb4c-6007d0a8b70c",
   "metadata": {},
   "outputs": [],
   "source": []
  }
 ],
 "metadata": {
  "kernelspec": {
   "display_name": "Python (spaCy)",
   "language": "python",
   "name": "spacy_env"
  },
  "language_info": {
   "codemirror_mode": {
    "name": "ipython",
    "version": 3
   },
   "file_extension": ".py",
   "mimetype": "text/x-python",
   "name": "python",
   "nbconvert_exporter": "python",
   "pygments_lexer": "ipython3",
   "version": "3.10.13"
  }
 },
 "nbformat": 4,
 "nbformat_minor": 5
}
